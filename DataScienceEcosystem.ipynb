{
  "metadata": {
    "kernelspec": {
      "name": "python",
      "display_name": "Python (Pyodide)",
      "language": "python"
    },
    "language_info": {
      "codemirror_mode": {
        "name": "python",
        "version": 3
      },
      "file_extension": ".py",
      "mimetype": "text/x-python",
      "name": "python",
      "nbconvert_exporter": "python",
      "pygments_lexer": "ipython3",
      "version": "3.8"
    }
  },
  "nbformat_minor": 5,
  "nbformat": 4,
  "cells": [
    {
      "id": "d0d3940f-dbcc-4cfd-9ac1-de4c90f8774c",
      "cell_type": "markdown",
      "source": "# Data Science Tools and Ecosystem",
      "metadata": {}
    },
    {
      "id": "24f37a2d-a9e5-480a-8927-cdfb23f06fda",
      "cell_type": "markdown",
      "source": "## In this notebook, Data Science Tools and Ecosystem are summarized.",
      "metadata": {}
    },
    {
      "id": "d5961fc7-2553-4d94-bd4a-931a52b79a67",
      "cell_type": "markdown",
      "source": "**Objectives:**\n\n- List popular languages for Data Science  \n- List commonly used libraries in Data Science  \n- Create and format markdown cells  \n- Perform arithmetic operations in code cells  \n- Create tables in markdown format  ",
      "metadata": {}
    },
    {
      "id": "fece95a6-973d-4f45-a6ee-6db9450bf85f",
      "cell_type": "markdown",
      "source": "Some of the popular languages that Data Scientists use are:\n1. Python\n2. R\n3. JavaScript",
      "metadata": {}
    },
    {
      "id": "8cf1cdac-ca08-4d53-bb02-47113a20d790",
      "cell_type": "markdown",
      "source": "Some of the commonly used libraries used by Data Scientists include:\n1. Pandas\n2. Numpy\n3. matplotlib",
      "metadata": {}
    },
    {
      "id": "aaf78add-79e8-43ee-85c7-859106b49aca",
      "cell_type": "markdown",
      "source": "| Data Science Tools          |\n|----------------------------|\n| Jupyter Notebook           |\n| RStudio                    |\n| Apache Zeppelin            |",
      "metadata": {}
    },
    {
      "id": "01eeff12-fa3f-4b17-a05c-aadffc6489d4",
      "cell_type": "markdown",
      "source": "### Below are a few examples of evaluating arithmetic expressions in Python",
      "metadata": {}
    },
    {
      "id": "377e3da0-d192-4799-bd5c-448c6d976a89",
      "cell_type": "code",
      "source": "# This a simple arithmetic expression to mutiply then add integers\n\n(3*4) + 5",
      "metadata": {
        "trusted": true
      },
      "outputs": [
        {
          "execution_count": 2,
          "output_type": "execute_result",
          "data": {
            "text/plain": "17"
          },
          "metadata": {}
        }
      ],
      "execution_count": 2
    },
    {
      "id": "3ef68c9c-c156-4bf5-8a0a-6546b21fcecd",
      "cell_type": "code",
      "source": "# This will convert 200 minutes to hours by diving by 60\nhours = 200/60\n\nprint(hours)",
      "metadata": {
        "trusted": true
      },
      "outputs": [
        {
          "name": "stdout",
          "output_type": "stream",
          "text": "3.3333333333333335\n"
        }
      ],
      "execution_count": 4
    },
    {
      "id": "3d586da0-b35a-4ade-add6-1fd0000da3d5",
      "cell_type": "markdown",
      "source": "## Author\nBhuvanaChandra Kaseedu",
      "metadata": {}
    },
    {
      "id": "aceedd60-2ad6-483a-923a-41a7d9bf88bc",
      "cell_type": "code",
      "source": "",
      "metadata": {
        "trusted": true
      },
      "outputs": [],
      "execution_count": null
    }
  ]
}